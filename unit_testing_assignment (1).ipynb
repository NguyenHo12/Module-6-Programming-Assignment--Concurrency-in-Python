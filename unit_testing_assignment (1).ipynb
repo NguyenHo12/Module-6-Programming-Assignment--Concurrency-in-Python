{
 "cells": [
  {
   "cell_type": "code",
   "execution_count": 6,
   "id": "6a162ef3-4747-464e-8838-5674480cdeda",
   "metadata": {},
   "outputs": [],
   "source": [
    "### 13.1 – Write the current date as a string to the text file today.txt\n",
    "from datetime import date\n",
    "\n",
    "today = date.today()\n",
    "\n",
    "with open(\"today.txt\", \"w\") as file:\n",
    "    file.write(today.isoformat())\n"
   ]
  },
  {
   "cell_type": "code",
   "execution_count": 4,
   "id": "54cf561f-48c9-4852-845a-123601b5049e",
   "metadata": {},
   "outputs": [
    {
     "name": "stdout",
     "output_type": "stream",
     "text": [
      "2025-05-11\n"
     ]
    }
   ],
   "source": [
    "### 13.2 – Read the text file today.txt into the string today_string\n",
    "with open(\"today.txt\", \"r\") as file:\n",
    "    today_string = file.read()\n",
    "\n",
    "print(today_string)\n"
   ]
  },
  {
   "cell_type": "code",
   "execution_count": 10,
   "id": "d506e95f-b5ad-4e0a-84cc-77a17a36cfbc",
   "metadata": {},
   "outputs": [
    {
     "name": "stdout",
     "output_type": "stream",
     "text": [
      "2025-05-11\n"
     ]
    }
   ],
   "source": [
    "### 13.3 – Parse the date from today_string\n",
    "from datetime import datetime\n",
    "\n",
    "parsed_date = datetime.strptime(today_string, \"%Y-%m-%d\").date()\n",
    "print(parsed_date)\n"
   ]
  },
  {
   "cell_type": "code",
   "execution_count": null,
   "id": "1e2e8929-129f-4155-bb2c-587d22fc217e",
   "metadata": {},
   "outputs": [],
   "source": []
  }
 ],
 "metadata": {
  "kernelspec": {
   "display_name": "Python [conda env:base] *",
   "language": "python",
   "name": "conda-base-py"
  },
  "language_info": {
   "codemirror_mode": {
    "name": "ipython",
    "version": 3
   },
   "file_extension": ".py",
   "mimetype": "text/x-python",
   "name": "python",
   "nbconvert_exporter": "python",
   "pygments_lexer": "ipython3",
   "version": "3.12.7"
  }
 },
 "nbformat": 4,
 "nbformat_minor": 5
}
